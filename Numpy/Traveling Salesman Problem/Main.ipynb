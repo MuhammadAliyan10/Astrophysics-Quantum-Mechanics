{
 "cells": [
  {
   "cell_type": "code",
   "execution_count": 1,
   "metadata": {},
   "outputs": [],
   "source": [
    "import numpy as np"
   ]
  },
  {
   "cell_type": "code",
   "execution_count": 2,
   "metadata": {},
   "outputs": [],
   "source": [
    "locations = np.array([\n",
    "    [0, 0],   \n",
    "    [2, 3],  \n",
    "    [5, 4],   \n",
    "    [1, 6],  \n",
    "    [7, 2],  \n",
    "    [3, 5],   \n",
    "])"
   ]
  },
  {
   "cell_type": "markdown",
   "metadata": {},
   "source": [
    "#### Compute the distance matrix"
   ]
  },
  {
   "cell_type": "code",
   "execution_count": 7,
   "metadata": {},
   "outputs": [],
   "source": [
    "def calculateDistanceMatrix(locations:np.array):\n",
    "    numLocations = locations.shape[0]\n",
    "    distanceMatrix = np.zeros((numLocations, numLocations))\n",
    "    for i in range(numLocations):\n",
    "        for j in range(numLocations):\n",
    "            distanceMatrix[i, j] = np.linalg.norm(locations[i] - locations[j])\n",
    "    return distanceMatrix"
   ]
  },
  {
   "cell_type": "code",
   "execution_count": 8,
   "metadata": {},
   "outputs": [
    {
     "data": {
      "text/plain": [
       "array([[0.        , 3.60555128, 6.40312424, 6.08276253, 7.28010989,\n",
       "        5.83095189],\n",
       "       [3.60555128, 0.        , 3.16227766, 3.16227766, 5.09901951,\n",
       "        2.23606798],\n",
       "       [6.40312424, 3.16227766, 0.        , 4.47213595, 2.82842712,\n",
       "        2.23606798],\n",
       "       [6.08276253, 3.16227766, 4.47213595, 0.        , 7.21110255,\n",
       "        2.23606798],\n",
       "       [7.28010989, 5.09901951, 2.82842712, 7.21110255, 0.        ,\n",
       "        5.        ],\n",
       "       [5.83095189, 2.23606798, 2.23606798, 2.23606798, 5.        ,\n",
       "        0.        ]])"
      ]
     },
     "execution_count": 8,
     "metadata": {},
     "output_type": "execute_result"
    }
   ],
   "source": [
    "calculateDistanceMatrix(locations)"
   ]
  },
  {
   "cell_type": "markdown",
   "metadata": {},
   "source": [
    "#### Greedy algorithm to find an approximate shortest path"
   ]
  },
  {
   "cell_type": "code",
   "execution_count": 14,
   "metadata": {},
   "outputs": [],
   "source": [
    "def findOptimalRoute(distanceMatrix:np.array):\n",
    "    numLocations = distanceMatrix.shape[0]\n",
    "    visited = np.zeros(numLocations, dtype=bool)\n",
    "    route = [0]\n",
    "    visited[0] = True\n",
    "    for _ in range(numLocations - 1):\n",
    "        lastVisited = route[-1]\n",
    "        distances = distanceMatrix[lastVisited]\n",
    "        distances[visited] = np.inf\n",
    "        nextLocation = np.argmin(distances)\n",
    "        route.append(nextLocation)\n",
    "        visited[nextLocation] = True\n",
    "    return route"
   ]
  },
  {
   "cell_type": "code",
   "execution_count": 25,
   "metadata": {},
   "outputs": [
    {
     "data": {
      "text/plain": [
       "[0, 1, 5, 2, 4, 3]"
      ]
     },
     "execution_count": 25,
     "metadata": {},
     "output_type": "execute_result"
    }
   ],
   "source": [
    "findOptimalRoute(calculateDistanceMatrix(locations=locations))"
   ]
  },
  {
   "cell_type": "markdown",
   "metadata": {},
   "source": [
    "#### Calculate the total travel distance"
   ]
  },
  {
   "cell_type": "code",
   "execution_count": 26,
   "metadata": {},
   "outputs": [],
   "source": [
    "def calculateTotalDistance(route , distanceMatrix):\n",
    "    totalDistance = 0\n",
    "    for i in range(len(route) -1):\n",
    "        totalDistance += distanceMatrix[route[i], route[i+1]]\n",
    "    totalDistance += distanceMatrix[route[-1], route[0]]\n",
    "    return totalDistance\n"
   ]
  },
  {
   "cell_type": "code",
   "execution_count": 27,
   "metadata": {},
   "outputs": [
    {
     "data": {
      "text/plain": [
       "24.199979436435957"
      ]
     },
     "execution_count": 27,
     "metadata": {},
     "output_type": "execute_result"
    }
   ],
   "source": [
    "calculateTotalDistance(findOptimalRoute(calculateDistanceMatrix(locations)), calculateDistanceMatrix(locations))"
   ]
  },
  {
   "cell_type": "code",
   "execution_count": null,
   "metadata": {},
   "outputs": [],
   "source": []
  }
 ],
 "metadata": {
  "kernelspec": {
   "display_name": "Python 3",
   "language": "python",
   "name": "python3"
  },
  "language_info": {
   "codemirror_mode": {
    "name": "ipython",
    "version": 3
   },
   "file_extension": ".py",
   "mimetype": "text/x-python",
   "name": "python",
   "nbconvert_exporter": "python",
   "pygments_lexer": "ipython3",
   "version": "3.12.2"
  }
 },
 "nbformat": 4,
 "nbformat_minor": 2
}
