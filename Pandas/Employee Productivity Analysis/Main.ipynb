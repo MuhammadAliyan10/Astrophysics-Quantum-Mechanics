{
 "cells": [
  {
   "cell_type": "code",
   "execution_count": 2,
   "metadata": {},
   "outputs": [],
   "source": [
    "import pandas as pd\n",
    "import numpy as np"
   ]
  },
  {
   "cell_type": "code",
   "execution_count": 3,
   "metadata": {},
   "outputs": [],
   "source": [
    "np.random.seed(42) \n",
    "\n",
    "data = {\n",
    "    \"Date\": pd.date_range(start=\"2024-01-01\", end=\"2024-12-31\", freq=\"D\"),\n",
    "    \"Employee\": np.random.choice([\"Alice\", \"Bob\", \"Charlie\", \"Diana\", \"Eve\"], 366),\n",
    "    \"Department\": np.random.choice([\"HR\", \"Finance\", \"Engineering\", \"Sales\"], 366),\n",
    "    \"Hours Worked\": np.random.uniform(4, 10, 366).round(1), \n",
    "}\n",
    "\n",
    "df = pd.DataFrame(data)"
   ]
  },
  {
   "cell_type": "code",
   "execution_count": 7,
   "metadata": {},
   "outputs": [
    {
     "data": {
      "text/html": [
       "<div>\n",
       "<style scoped>\n",
       "    .dataframe tbody tr th:only-of-type {\n",
       "        vertical-align: middle;\n",
       "    }\n",
       "\n",
       "    .dataframe tbody tr th {\n",
       "        vertical-align: top;\n",
       "    }\n",
       "\n",
       "    .dataframe thead th {\n",
       "        text-align: right;\n",
       "    }\n",
       "</style>\n",
       "<table border=\"1\" class=\"dataframe\">\n",
       "  <thead>\n",
       "    <tr style=\"text-align: right;\">\n",
       "      <th></th>\n",
       "      <th>Date</th>\n",
       "      <th>Employee</th>\n",
       "      <th>Department</th>\n",
       "      <th>Hours Worked</th>\n",
       "    </tr>\n",
       "  </thead>\n",
       "  <tbody>\n",
       "    <tr>\n",
       "      <th>0</th>\n",
       "      <td>2024-01-01</td>\n",
       "      <td>Diana</td>\n",
       "      <td>Sales</td>\n",
       "      <td>8.2</td>\n",
       "    </tr>\n",
       "    <tr>\n",
       "      <th>1</th>\n",
       "      <td>2024-01-02</td>\n",
       "      <td>Eve</td>\n",
       "      <td>Sales</td>\n",
       "      <td>6.3</td>\n",
       "    </tr>\n",
       "    <tr>\n",
       "      <th>2</th>\n",
       "      <td>2024-01-03</td>\n",
       "      <td>Charlie</td>\n",
       "      <td>Finance</td>\n",
       "      <td>8.4</td>\n",
       "    </tr>\n",
       "    <tr>\n",
       "      <th>3</th>\n",
       "      <td>2024-01-04</td>\n",
       "      <td>Eve</td>\n",
       "      <td>Engineering</td>\n",
       "      <td>9.5</td>\n",
       "    </tr>\n",
       "    <tr>\n",
       "      <th>4</th>\n",
       "      <td>2024-01-05</td>\n",
       "      <td>Eve</td>\n",
       "      <td>Engineering</td>\n",
       "      <td>9.8</td>\n",
       "    </tr>\n",
       "    <tr>\n",
       "      <th>...</th>\n",
       "      <td>...</td>\n",
       "      <td>...</td>\n",
       "      <td>...</td>\n",
       "      <td>...</td>\n",
       "    </tr>\n",
       "    <tr>\n",
       "      <th>361</th>\n",
       "      <td>2024-12-27</td>\n",
       "      <td>Diana</td>\n",
       "      <td>Finance</td>\n",
       "      <td>7.3</td>\n",
       "    </tr>\n",
       "    <tr>\n",
       "      <th>362</th>\n",
       "      <td>2024-12-28</td>\n",
       "      <td>Diana</td>\n",
       "      <td>Engineering</td>\n",
       "      <td>9.2</td>\n",
       "    </tr>\n",
       "    <tr>\n",
       "      <th>363</th>\n",
       "      <td>2024-12-29</td>\n",
       "      <td>Eve</td>\n",
       "      <td>Engineering</td>\n",
       "      <td>7.2</td>\n",
       "    </tr>\n",
       "    <tr>\n",
       "      <th>364</th>\n",
       "      <td>2024-12-30</td>\n",
       "      <td>Diana</td>\n",
       "      <td>HR</td>\n",
       "      <td>5.1</td>\n",
       "    </tr>\n",
       "    <tr>\n",
       "      <th>365</th>\n",
       "      <td>2024-12-31</td>\n",
       "      <td>Eve</td>\n",
       "      <td>HR</td>\n",
       "      <td>5.8</td>\n",
       "    </tr>\n",
       "  </tbody>\n",
       "</table>\n",
       "<p>366 rows × 4 columns</p>\n",
       "</div>"
      ],
      "text/plain": [
       "          Date Employee   Department  Hours Worked\n",
       "0   2024-01-01    Diana        Sales           8.2\n",
       "1   2024-01-02      Eve        Sales           6.3\n",
       "2   2024-01-03  Charlie      Finance           8.4\n",
       "3   2024-01-04      Eve  Engineering           9.5\n",
       "4   2024-01-05      Eve  Engineering           9.8\n",
       "..         ...      ...          ...           ...\n",
       "361 2024-12-27    Diana      Finance           7.3\n",
       "362 2024-12-28    Diana  Engineering           9.2\n",
       "363 2024-12-29      Eve  Engineering           7.2\n",
       "364 2024-12-30    Diana           HR           5.1\n",
       "365 2024-12-31      Eve           HR           5.8\n",
       "\n",
       "[366 rows x 4 columns]"
      ]
     },
     "execution_count": 7,
     "metadata": {},
     "output_type": "execute_result"
    }
   ],
   "source": [
    "df"
   ]
  },
  {
   "cell_type": "markdown",
   "metadata": {},
   "source": [
    "### Average Hours Worked Per Department Each Month"
   ]
  },
  {
   "cell_type": "code",
   "execution_count": 8,
   "metadata": {},
   "outputs": [],
   "source": [
    "df['Month'] = df['Date'].dt.to_period('M')"
   ]
  },
  {
   "cell_type": "code",
   "execution_count": 9,
   "metadata": {},
   "outputs": [
    {
     "data": {
      "text/html": [
       "<div>\n",
       "<style scoped>\n",
       "    .dataframe tbody tr th:only-of-type {\n",
       "        vertical-align: middle;\n",
       "    }\n",
       "\n",
       "    .dataframe tbody tr th {\n",
       "        vertical-align: top;\n",
       "    }\n",
       "\n",
       "    .dataframe thead th {\n",
       "        text-align: right;\n",
       "    }\n",
       "</style>\n",
       "<table border=\"1\" class=\"dataframe\">\n",
       "  <thead>\n",
       "    <tr style=\"text-align: right;\">\n",
       "      <th></th>\n",
       "      <th>Date</th>\n",
       "      <th>Employee</th>\n",
       "      <th>Department</th>\n",
       "      <th>Hours Worked</th>\n",
       "      <th>Month</th>\n",
       "    </tr>\n",
       "  </thead>\n",
       "  <tbody>\n",
       "    <tr>\n",
       "      <th>0</th>\n",
       "      <td>2024-01-01</td>\n",
       "      <td>Diana</td>\n",
       "      <td>Sales</td>\n",
       "      <td>8.2</td>\n",
       "      <td>2024-01</td>\n",
       "    </tr>\n",
       "    <tr>\n",
       "      <th>1</th>\n",
       "      <td>2024-01-02</td>\n",
       "      <td>Eve</td>\n",
       "      <td>Sales</td>\n",
       "      <td>6.3</td>\n",
       "      <td>2024-01</td>\n",
       "    </tr>\n",
       "    <tr>\n",
       "      <th>2</th>\n",
       "      <td>2024-01-03</td>\n",
       "      <td>Charlie</td>\n",
       "      <td>Finance</td>\n",
       "      <td>8.4</td>\n",
       "      <td>2024-01</td>\n",
       "    </tr>\n",
       "    <tr>\n",
       "      <th>3</th>\n",
       "      <td>2024-01-04</td>\n",
       "      <td>Eve</td>\n",
       "      <td>Engineering</td>\n",
       "      <td>9.5</td>\n",
       "      <td>2024-01</td>\n",
       "    </tr>\n",
       "    <tr>\n",
       "      <th>4</th>\n",
       "      <td>2024-01-05</td>\n",
       "      <td>Eve</td>\n",
       "      <td>Engineering</td>\n",
       "      <td>9.8</td>\n",
       "      <td>2024-01</td>\n",
       "    </tr>\n",
       "  </tbody>\n",
       "</table>\n",
       "</div>"
      ],
      "text/plain": [
       "        Date Employee   Department  Hours Worked    Month\n",
       "0 2024-01-01    Diana        Sales           8.2  2024-01\n",
       "1 2024-01-02      Eve        Sales           6.3  2024-01\n",
       "2 2024-01-03  Charlie      Finance           8.4  2024-01\n",
       "3 2024-01-04      Eve  Engineering           9.5  2024-01\n",
       "4 2024-01-05      Eve  Engineering           9.8  2024-01"
      ]
     },
     "execution_count": 9,
     "metadata": {},
     "output_type": "execute_result"
    }
   ],
   "source": [
    "df.head()"
   ]
  },
  {
   "cell_type": "code",
   "execution_count": 10,
   "metadata": {},
   "outputs": [],
   "source": [
    "averageHoursPerDepartment = df.groupby(['Month', \"Department\"])['Hours Worked'].mean().unstack()"
   ]
  },
  {
   "cell_type": "code",
   "execution_count": 11,
   "metadata": {},
   "outputs": [
    {
     "data": {
      "text/html": [
       "<div>\n",
       "<style scoped>\n",
       "    .dataframe tbody tr th:only-of-type {\n",
       "        vertical-align: middle;\n",
       "    }\n",
       "\n",
       "    .dataframe tbody tr th {\n",
       "        vertical-align: top;\n",
       "    }\n",
       "\n",
       "    .dataframe thead th {\n",
       "        text-align: right;\n",
       "    }\n",
       "</style>\n",
       "<table border=\"1\" class=\"dataframe\">\n",
       "  <thead>\n",
       "    <tr style=\"text-align: right;\">\n",
       "      <th>Department</th>\n",
       "      <th>Engineering</th>\n",
       "      <th>Finance</th>\n",
       "      <th>HR</th>\n",
       "      <th>Sales</th>\n",
       "    </tr>\n",
       "    <tr>\n",
       "      <th>Month</th>\n",
       "      <th></th>\n",
       "      <th></th>\n",
       "      <th></th>\n",
       "      <th></th>\n",
       "    </tr>\n",
       "  </thead>\n",
       "  <tbody>\n",
       "    <tr>\n",
       "      <th>2024-01</th>\n",
       "      <td>6.588889</td>\n",
       "      <td>7.100000</td>\n",
       "      <td>6.180000</td>\n",
       "      <td>6.477778</td>\n",
       "    </tr>\n",
       "    <tr>\n",
       "      <th>2024-02</th>\n",
       "      <td>6.980000</td>\n",
       "      <td>7.428571</td>\n",
       "      <td>6.480000</td>\n",
       "      <td>6.457143</td>\n",
       "    </tr>\n",
       "    <tr>\n",
       "      <th>2024-03</th>\n",
       "      <td>7.925000</td>\n",
       "      <td>7.233333</td>\n",
       "      <td>6.888889</td>\n",
       "      <td>7.983333</td>\n",
       "    </tr>\n",
       "    <tr>\n",
       "      <th>2024-04</th>\n",
       "      <td>7.420000</td>\n",
       "      <td>5.383333</td>\n",
       "      <td>7.780000</td>\n",
       "      <td>7.285714</td>\n",
       "    </tr>\n",
       "    <tr>\n",
       "      <th>2024-05</th>\n",
       "      <td>7.087500</td>\n",
       "      <td>6.783333</td>\n",
       "      <td>6.718182</td>\n",
       "      <td>6.766667</td>\n",
       "    </tr>\n",
       "    <tr>\n",
       "      <th>2024-06</th>\n",
       "      <td>6.040000</td>\n",
       "      <td>6.400000</td>\n",
       "      <td>7.700000</td>\n",
       "      <td>6.157143</td>\n",
       "    </tr>\n",
       "    <tr>\n",
       "      <th>2024-07</th>\n",
       "      <td>6.800000</td>\n",
       "      <td>7.060000</td>\n",
       "      <td>8.463636</td>\n",
       "      <td>7.025000</td>\n",
       "    </tr>\n",
       "    <tr>\n",
       "      <th>2024-08</th>\n",
       "      <td>6.644444</td>\n",
       "      <td>5.650000</td>\n",
       "      <td>7.720000</td>\n",
       "      <td>6.790000</td>\n",
       "    </tr>\n",
       "    <tr>\n",
       "      <th>2024-09</th>\n",
       "      <td>7.500000</td>\n",
       "      <td>7.090909</td>\n",
       "      <td>7.012500</td>\n",
       "      <td>7.333333</td>\n",
       "    </tr>\n",
       "    <tr>\n",
       "      <th>2024-10</th>\n",
       "      <td>6.925000</td>\n",
       "      <td>7.128571</td>\n",
       "      <td>7.433333</td>\n",
       "      <td>7.614286</td>\n",
       "    </tr>\n",
       "    <tr>\n",
       "      <th>2024-11</th>\n",
       "      <td>7.042857</td>\n",
       "      <td>6.883333</td>\n",
       "      <td>6.100000</td>\n",
       "      <td>6.314286</td>\n",
       "    </tr>\n",
       "    <tr>\n",
       "      <th>2024-12</th>\n",
       "      <td>7.214286</td>\n",
       "      <td>6.933333</td>\n",
       "      <td>7.075000</td>\n",
       "      <td>6.466667</td>\n",
       "    </tr>\n",
       "  </tbody>\n",
       "</table>\n",
       "</div>"
      ],
      "text/plain": [
       "Department  Engineering   Finance        HR     Sales\n",
       "Month                                                \n",
       "2024-01        6.588889  7.100000  6.180000  6.477778\n",
       "2024-02        6.980000  7.428571  6.480000  6.457143\n",
       "2024-03        7.925000  7.233333  6.888889  7.983333\n",
       "2024-04        7.420000  5.383333  7.780000  7.285714\n",
       "2024-05        7.087500  6.783333  6.718182  6.766667\n",
       "2024-06        6.040000  6.400000  7.700000  6.157143\n",
       "2024-07        6.800000  7.060000  8.463636  7.025000\n",
       "2024-08        6.644444  5.650000  7.720000  6.790000\n",
       "2024-09        7.500000  7.090909  7.012500  7.333333\n",
       "2024-10        6.925000  7.128571  7.433333  7.614286\n",
       "2024-11        7.042857  6.883333  6.100000  6.314286\n",
       "2024-12        7.214286  6.933333  7.075000  6.466667"
      ]
     },
     "execution_count": 11,
     "metadata": {},
     "output_type": "execute_result"
    }
   ],
   "source": [
    "averageHoursPerDepartment"
   ]
  },
  {
   "cell_type": "markdown",
   "metadata": {},
   "source": [
    "####  Least Productive Employee in Each Department per Quarter"
   ]
  },
  {
   "cell_type": "code",
   "execution_count": 12,
   "metadata": {},
   "outputs": [
    {
     "data": {
      "text/html": [
       "<div>\n",
       "<style scoped>\n",
       "    .dataframe tbody tr th:only-of-type {\n",
       "        vertical-align: middle;\n",
       "    }\n",
       "\n",
       "    .dataframe tbody tr th {\n",
       "        vertical-align: top;\n",
       "    }\n",
       "\n",
       "    .dataframe thead th {\n",
       "        text-align: right;\n",
       "    }\n",
       "</style>\n",
       "<table border=\"1\" class=\"dataframe\">\n",
       "  <thead>\n",
       "    <tr style=\"text-align: right;\">\n",
       "      <th></th>\n",
       "      <th>Date</th>\n",
       "      <th>Employee</th>\n",
       "      <th>Department</th>\n",
       "      <th>Hours Worked</th>\n",
       "      <th>Month</th>\n",
       "      <th>Quarter</th>\n",
       "    </tr>\n",
       "  </thead>\n",
       "  <tbody>\n",
       "    <tr>\n",
       "      <th>0</th>\n",
       "      <td>2024-01-01</td>\n",
       "      <td>Diana</td>\n",
       "      <td>Sales</td>\n",
       "      <td>8.2</td>\n",
       "      <td>2024-01</td>\n",
       "      <td>2024Q1</td>\n",
       "    </tr>\n",
       "    <tr>\n",
       "      <th>1</th>\n",
       "      <td>2024-01-02</td>\n",
       "      <td>Eve</td>\n",
       "      <td>Sales</td>\n",
       "      <td>6.3</td>\n",
       "      <td>2024-01</td>\n",
       "      <td>2024Q1</td>\n",
       "    </tr>\n",
       "    <tr>\n",
       "      <th>2</th>\n",
       "      <td>2024-01-03</td>\n",
       "      <td>Charlie</td>\n",
       "      <td>Finance</td>\n",
       "      <td>8.4</td>\n",
       "      <td>2024-01</td>\n",
       "      <td>2024Q1</td>\n",
       "    </tr>\n",
       "    <tr>\n",
       "      <th>3</th>\n",
       "      <td>2024-01-04</td>\n",
       "      <td>Eve</td>\n",
       "      <td>Engineering</td>\n",
       "      <td>9.5</td>\n",
       "      <td>2024-01</td>\n",
       "      <td>2024Q1</td>\n",
       "    </tr>\n",
       "    <tr>\n",
       "      <th>4</th>\n",
       "      <td>2024-01-05</td>\n",
       "      <td>Eve</td>\n",
       "      <td>Engineering</td>\n",
       "      <td>9.8</td>\n",
       "      <td>2024-01</td>\n",
       "      <td>2024Q1</td>\n",
       "    </tr>\n",
       "  </tbody>\n",
       "</table>\n",
       "</div>"
      ],
      "text/plain": [
       "        Date Employee   Department  Hours Worked    Month Quarter\n",
       "0 2024-01-01    Diana        Sales           8.2  2024-01  2024Q1\n",
       "1 2024-01-02      Eve        Sales           6.3  2024-01  2024Q1\n",
       "2 2024-01-03  Charlie      Finance           8.4  2024-01  2024Q1\n",
       "3 2024-01-04      Eve  Engineering           9.5  2024-01  2024Q1\n",
       "4 2024-01-05      Eve  Engineering           9.8  2024-01  2024Q1"
      ]
     },
     "execution_count": 12,
     "metadata": {},
     "output_type": "execute_result"
    }
   ],
   "source": [
    "df['Quarter'] = df['Date'].dt.to_period('Q')\n",
    "df.head()"
   ]
  },
  {
   "cell_type": "code",
   "execution_count": 14,
   "metadata": {},
   "outputs": [],
   "source": [
    "productivity = df.groupby(['Quarter','Department','Employee'])['Hours Worked'].sum()"
   ]
  },
  {
   "cell_type": "code",
   "execution_count": 15,
   "metadata": {},
   "outputs": [
    {
     "data": {
      "text/plain": [
       "Quarter  Department   Employee\n",
       "2024Q1   Engineering  Alice       25.2\n",
       "                      Bob         22.3\n",
       "                      Charlie      6.3\n",
       "                      Diana       43.0\n",
       "                      Eve         29.1\n",
       "                                  ... \n",
       "2024Q4   Sales        Alice       17.1\n",
       "                      Bob         24.0\n",
       "                      Charlie     28.7\n",
       "                      Diana       36.0\n",
       "                      Eve         30.5\n",
       "Name: Hours Worked, Length: 80, dtype: float64"
      ]
     },
     "execution_count": 15,
     "metadata": {},
     "output_type": "execute_result"
    }
   ],
   "source": [
    "productivity"
   ]
  },
  {
   "cell_type": "code",
   "execution_count": 17,
   "metadata": {},
   "outputs": [],
   "source": [
    "leastProductive = productivity.groupby(['Quarter', \"Department\"]).idxmin()"
   ]
  },
  {
   "cell_type": "code",
   "execution_count": 18,
   "metadata": {},
   "outputs": [
    {
     "data": {
      "text/plain": [
       "Quarter  Department \n",
       "2024Q1   Engineering    (2024Q1, Engineering, Charlie)\n",
       "         Finance                (2024Q1, Finance, Bob)\n",
       "         HR                      (2024Q1, HR, Charlie)\n",
       "         Sales                  (2024Q1, Sales, Alice)\n",
       "2024Q2   Engineering      (2024Q2, Engineering, Alice)\n",
       "         Finance              (2024Q2, Finance, Diana)\n",
       "         HR                          (2024Q2, HR, Eve)\n",
       "         Sales                    (2024Q2, Sales, Eve)\n",
       "2024Q3   Engineering        (2024Q3, Engineering, Eve)\n",
       "         Finance                (2024Q3, Finance, Bob)\n",
       "         HR                          (2024Q3, HR, Eve)\n",
       "         Sales                    (2024Q3, Sales, Eve)\n",
       "2024Q4   Engineering    (2024Q4, Engineering, Charlie)\n",
       "         Finance              (2024Q4, Finance, Alice)\n",
       "         HR                          (2024Q4, HR, Eve)\n",
       "         Sales                  (2024Q4, Sales, Alice)\n",
       "Name: Hours Worked, dtype: object"
      ]
     },
     "execution_count": 18,
     "metadata": {},
     "output_type": "execute_result"
    }
   ],
   "source": [
    "leastProductive"
   ]
  },
  {
   "cell_type": "markdown",
   "metadata": {},
   "source": [
    "#### Best Performing Department for the Year"
   ]
  },
  {
   "cell_type": "code",
   "execution_count": 19,
   "metadata": {},
   "outputs": [],
   "source": [
    "bestDepartment = df.groupby(\"Department\")['Hours Worked'].sum()"
   ]
  },
  {
   "cell_type": "code",
   "execution_count": 20,
   "metadata": {},
   "outputs": [
    {
     "data": {
      "text/plain": [
       "Department\n",
       "Engineering    572.5\n",
       "Finance        570.8\n",
       "HR             794.4\n",
       "Sales          619.5\n",
       "Name: Hours Worked, dtype: float64"
      ]
     },
     "execution_count": 20,
     "metadata": {},
     "output_type": "execute_result"
    }
   ],
   "source": [
    "bestDepartment"
   ]
  },
  {
   "cell_type": "code",
   "execution_count": null,
   "metadata": {},
   "outputs": [],
   "source": []
  }
 ],
 "metadata": {
  "kernelspec": {
   "display_name": "Python 3",
   "language": "python",
   "name": "python3"
  },
  "language_info": {
   "codemirror_mode": {
    "name": "ipython",
    "version": 3
   },
   "file_extension": ".py",
   "mimetype": "text/x-python",
   "name": "python",
   "nbconvert_exporter": "python",
   "pygments_lexer": "ipython3",
   "version": "3.12.2"
  }
 },
 "nbformat": 4,
 "nbformat_minor": 2
}
